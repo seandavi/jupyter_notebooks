{
  "nbformat": 4,
  "nbformat_minor": 0,
  "metadata": {
    "colab": {
      "provenance": [],
      "authorship_tag": "ABX9TyPtdcQ3ceZOYr3u9uh8pdT8",
      "include_colab_link": true
    },
    "kernelspec": {
      "name": "python3",
      "display_name": "Python 3"
    },
    "language_info": {
      "name": "python"
    }
  },
  "cells": [
    {
      "cell_type": "markdown",
      "metadata": {
        "id": "view-in-github",
        "colab_type": "text"
      },
      "source": [
        "<a href=\"https://colab.research.google.com/github/seandavi/jupyter_notebooks/blob/main/intro_to_unstructured.ipynb\" target=\"_parent\"><img src=\"https://colab.research.google.com/assets/colab-badge.svg\" alt=\"Open In Colab\"/></a>"
      ]
    },
    {
      "cell_type": "code",
      "execution_count": 1,
      "metadata": {
        "id": "2rqycG-53P8g"
      },
      "outputs": [],
      "source": [
        "%%capture\n",
        "%pip install 'unstructured[pdf]'"
      ]
    },
    {
      "cell_type": "code",
      "source": [],
      "metadata": {
        "id": "uxgPc0Dn4F3p"
      },
      "execution_count": 1,
      "outputs": []
    },
    {
      "cell_type": "code",
      "source": [
        "from unstructured.partition.auto import partition"
      ],
      "metadata": {
        "id": "BndRqwHy3WeA"
      },
      "execution_count": 2,
      "outputs": []
    },
    {
      "cell_type": "code",
      "source": [
        "from urllib.request import urlretrieve"
      ],
      "metadata": {
        "id": "HZ9bXCmE38Qf"
      },
      "execution_count": 3,
      "outputs": []
    },
    {
      "cell_type": "code",
      "source": [
        "path, headers = urlretrieve('https://www.nature.com/articles/s41598-022-07995-7.pdf','microbiome.pdf')"
      ],
      "metadata": {
        "id": "wXmsMpta4bP_"
      },
      "execution_count": 11,
      "outputs": []
    },
    {
      "cell_type": "code",
      "source": [
        "parts = partition('microbiome.pdf')"
      ],
      "metadata": {
        "id": "r3LbwS7b4sio"
      },
      "execution_count": 12,
      "outputs": []
    },
    {
      "cell_type": "code",
      "source": [
        "from collections import defaultdict\n",
        "categories = defaultdict(int)\n",
        "for element in parts:\n",
        "  categories[str(type(element))]+=1\n",
        "for k, v in categories.items():\n",
        "  print(k,v)"
      ],
      "metadata": {
        "colab": {
          "base_uri": "https://localhost:8080/"
        },
        "id": "OmRGUDDkbhn3",
        "outputId": "0666159d-6d61-4df4-b539-b7c4b5e66715"
      },
      "execution_count": 14,
      "outputs": [
        {
          "output_type": "stream",
          "name": "stdout",
          "text": [
            "<class 'unstructured.documents.elements.Title'> 65\n",
            "<class 'unstructured.documents.elements.NarrativeText'> 84\n",
            "<class 'unstructured.documents.elements.Text'> 64\n",
            "<class 'unstructured.documents.elements.ListItem'> 40\n"
          ]
        }
      ]
    },
    {
      "cell_type": "markdown",
      "source": [
        "## fine-tuning the pdf extraction"
      ],
      "metadata": {
        "id": "4ijbdCqM0Kyb"
      }
    },
    {
      "cell_type": "code",
      "source": [
        "from unstructured.partition.pdf import partition_pdf"
      ],
      "metadata": {
        "id": "-f6bTupybyWx"
      },
      "execution_count": 8,
      "outputs": []
    },
    {
      "cell_type": "code",
      "source": [
        "!sudo apt-get install poppler-utils tesseract-ocr"
      ],
      "metadata": {
        "colab": {
          "base_uri": "https://localhost:8080/"
        },
        "id": "PamvCUPYhTrj",
        "outputId": "690a4c94-3c90-4f68-ac86-a98817876e52"
      },
      "execution_count": 9,
      "outputs": [
        {
          "output_type": "stream",
          "name": "stdout",
          "text": [
            "Reading package lists... Done\n",
            "Building dependency tree... Done\n",
            "Reading state information... Done\n",
            "tesseract-ocr is already the newest version (4.1.1-2.1build1).\n",
            "poppler-utils is already the newest version (22.02.0-2ubuntu0.3).\n",
            "0 upgraded, 0 newly installed, 0 to remove and 24 not upgraded.\n"
          ]
        }
      ]
    },
    {
      "cell_type": "code",
      "source": [
        "parts2 = partition_pdf(filename = \"microbiome.pdf\",\n",
        "                                 # Unstructured first finds embedded image blocks\n",
        "                                 extract_images_in_pdf=False,\n",
        "                                 # Use layout model (YOLOX) to get bounding boxes (for tables) and find titles\n",
        "                                 # Titles are any sub-section of the document\n",
        "                                 infer_table_structure=True,\n",
        "                                 # Post processing to aggregate text once we have the title\n",
        "                                 chunking_strategy=\"by_title\",\n",
        "                                 # Chunking params to aggregate text blocks\n",
        "                                 # Attempt to create a new chunk 3800 chars\n",
        "                                 # Attempt to keep chunks > 2000 chars\n",
        "                                 max_characters=4000,\n",
        "                                 new_after_n_chars=3800,\n",
        "                                 combine_text_under_n_chars=2000,\n",
        "                                 #image_output_dir_path=path\n",
        "                                 )"
      ],
      "metadata": {
        "colab": {
          "base_uri": "https://localhost:8080/"
        },
        "id": "o44D8lQyeTmK",
        "outputId": "c046e3df-7620-41f6-c96a-4ea8cf919c66"
      },
      "execution_count": 15,
      "outputs": [
        {
          "output_type": "stream",
          "name": "stderr",
          "text": [
            "Some weights of the model checkpoint at microsoft/table-transformer-structure-recognition were not used when initializing TableTransformerForObjectDetection: ['model.backbone.conv_encoder.model.layer2.0.downsample.1.num_batches_tracked', 'model.backbone.conv_encoder.model.layer3.0.downsample.1.num_batches_tracked', 'model.backbone.conv_encoder.model.layer4.0.downsample.1.num_batches_tracked']\n",
            "- This IS expected if you are initializing TableTransformerForObjectDetection from the checkpoint of a model trained on another task or with another architecture (e.g. initializing a BertForSequenceClassification model from a BertForPreTraining model).\n",
            "- This IS NOT expected if you are initializing TableTransformerForObjectDetection from the checkpoint of a model that you expect to be exactly identical (initializing a BertForSequenceClassification model from a BertForSequenceClassification model).\n"
          ]
        }
      ]
    },
    {
      "cell_type": "code",
      "source": [
        "from collections import defaultdict\n",
        "categories = defaultdict(int)\n",
        "for element in parts2:\n",
        "  categories[str(type(element))]+=1\n",
        "for k, v in categories.items():\n",
        "  print(k,v)"
      ],
      "metadata": {
        "colab": {
          "base_uri": "https://localhost:8080/"
        },
        "id": "VGjNpB1leZwR",
        "outputId": "06495852-c0c1-4419-a0f6-231c4ddd15db"
      },
      "execution_count": 16,
      "outputs": [
        {
          "output_type": "stream",
          "name": "stdout",
          "text": [
            "<class 'unstructured.documents.elements.CompositeElement'> 24\n",
            "<class 'unstructured.documents.elements.Table'> 6\n"
          ]
        }
      ]
    },
    {
      "cell_type": "code",
      "source": [
        "lens = list([len(x.text) for x in parts2])"
      ],
      "metadata": {
        "id": "pAFvTPlBevXQ"
      },
      "execution_count": 26,
      "outputs": []
    },
    {
      "cell_type": "markdown",
      "source": [
        "## ChromaDB"
      ],
      "metadata": {
        "id": "v46LFm9o8z2T"
      }
    },
    {
      "cell_type": "code",
      "source": [
        "%%capture\n",
        "%pip install chromadb"
      ],
      "metadata": {
        "id": "DSLEi--n9E79"
      },
      "execution_count": 44,
      "outputs": []
    },
    {
      "cell_type": "code",
      "source": [
        "# prompt: import chromadb and load the documents in the parts2 list\n",
        "\n",
        "import chromadb\n",
        "client = chromadb.PersistentClient(path=\"db.db\")\n",
        "client.delete_collection('my_collection')\n",
        "collection = client.create_collection(name=\"my_collection\")\n"
      ],
      "metadata": {
        "id": "MRNRAj6hsWJF"
      },
      "execution_count": 55,
      "outputs": []
    },
    {
      "cell_type": "code",
      "source": [
        "collection.add(documents=[x.text for x in parts2], metadatas = [{'filename': x.metadata.filename} for x in parts2], ids=list(map(lambda x: str(x), range(len(parts2)))))"
      ],
      "metadata": {
        "id": "_ogVEoBV8FvX"
      },
      "execution_count": 56,
      "outputs": []
    },
    {
      "cell_type": "code",
      "source": [
        "res = collection.query(\n",
        "    query_texts=[\"What is the statistical model used for analysis?\"],\n",
        "    n_results=10,\n",
        ")"
      ],
      "metadata": {
        "id": "EYRqBgVN_8os"
      },
      "execution_count": 57,
      "outputs": []
    },
    {
      "cell_type": "code",
      "source": [
        "res.keys()"
      ],
      "metadata": {
        "colab": {
          "base_uri": "https://localhost:8080/"
        },
        "id": "A3zgLTicAAN7",
        "outputId": "90a82f93-16f3-4c5d-a068-812b51059885"
      },
      "execution_count": 59,
      "outputs": [
        {
          "output_type": "execute_result",
          "data": {
            "text/plain": [
              "dict_keys(['ids', 'distances', 'metadatas', 'embeddings', 'documents', 'uris', 'data'])"
            ]
          },
          "metadata": {},
          "execution_count": 59
        }
      ]
    },
    {
      "cell_type": "code",
      "source": [],
      "metadata": {
        "id": "ScuOBDNoBlrP"
      },
      "execution_count": null,
      "outputs": []
    }
  ]
}